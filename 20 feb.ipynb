{
 "cells": [
  {
   "cell_type": "code",
   "execution_count": null,
   "id": "e162eaf2-9c05-4479-aaa9-32e509ac9985",
   "metadata": {},
   "outputs": [],
   "source": [
    "Q1. Explain GET and POST methods.\n",
    "Q2. Why is request used in Flask?\n",
    "Q3. Why is redirect() used in Flask?\n",
    "Q4. What are templates in Flask? Why is the render_template() function used?\n",
    "Q5. Create a simple API. Use Postman to test it. Attach the screenshot of the output in the Jupyter Notebook.\n",
    "\n",
    "\n",
    "\n",
    "**Q1. Explain GET and POST methods.**\n",
    "- **GET Method:** It is a type of HTTP request method used to request data from a specified resource. It appends the data to the URL's query string and is generally used for safe, idempotent operations like retrieving data. Data is visible in the URL, which can be seen in browser history and logs.\n",
    "\n",
    "- **POST Method:** It is another type of HTTP request method used to submit data to be processed to a specified resource. It sends the data in the request body and is used for non-idempotent operations like submitting forms, creating resources, etc. Data is not visible in the URL.\n",
    "\n",
    "**Q2. Why is `request` used in Flask?**\n",
    "The `request` object in Flask is used to access data that the client (usually a browser) sends to the server as part of an HTTP request. This can include data from forms, query parameters, headers, cookies, and more. The `request` object allows you to access and process this data in your Flask application.\n",
    "\n",
    "**Q3. Why is `redirect()` used in Flask?**\n",
    "The `redirect()` function in Flask is used to perform HTTP redirects. It returns an HTTP response with a redirect status code and a new location (URL) to which the client's browser should be redirected. This is often used when you want to redirect the user to a different page or URL after a certain action.\n",
    "\n",
    "**Q4. What are templates in Flask? Why is the `render_template()` function used?**\n",
    "Templates in Flask are HTML files that include placeholders for dynamic content. These placeholders are filled with actual data when the template is rendered and served to the client. The `render_template()` function is used to render these templates, replacing the placeholders with actual values, which are typically passed as arguments to the function.\n",
    "\n",
    "**Q5. Create a simple API. Use Postman to test it.**\n",
    "Here's a simple example of creating an API using Flask and testing it using Postman:\n",
    "\n",
    "```python\n",
    "from flask import Flask, jsonify, request\n",
    "\n",
    "app = Flask(__name__)\n",
    "\n",
    "@app.route('/api/hello', methods=['GET', 'POST'])\n",
    "def hello():\n",
    "    if request.method == 'GET':\n",
    "        return jsonify({'message': 'Hello, GET request!'})\n",
    "\n",
    "    if request.method == 'POST':\n",
    "        data = request.json\n",
    "        name = data.get('name')\n",
    "        return jsonify({'message': f'Hello, {name} from POST request!'})\n",
    "\n",
    "if __name__ == '__main__':\n",
    "    app.run()\n",
    "```\n",
    "\n",
    "Unfortunately, I can't display images or screenshots in this text-based environment, such as Jupyter Notebook. You can run the provided Flask code and use Postman to send GET and POST requests to the specified URL (`/api/hello`) to see the output."
   ]
  }
 ],
 "metadata": {
  "kernelspec": {
   "display_name": "Python 3 (ipykernel)",
   "language": "python",
   "name": "python3"
  },
  "language_info": {
   "codemirror_mode": {
    "name": "ipython",
    "version": 3
   },
   "file_extension": ".py",
   "mimetype": "text/x-python",
   "name": "python",
   "nbconvert_exporter": "python",
   "pygments_lexer": "ipython3",
   "version": "3.10.8"
  }
 },
 "nbformat": 4,
 "nbformat_minor": 5
}
